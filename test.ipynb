{
 "cells": [
  {
   "cell_type": "code",
   "execution_count": 2,
   "id": "initial_id",
   "metadata": {
    "collapsed": true,
    "ExecuteTime": {
     "end_time": "2024-03-19T17:49:30.927625Z",
     "start_time": "2024-03-19T17:49:30.124117Z"
    }
   },
   "outputs": [],
   "source": [
    "import pandas as pd\n",
    "import numpy as np"
   ]
  },
  {
   "cell_type": "code",
   "outputs": [
    {
     "data": {
      "text/plain": "Index(['Регион ', 'Федеральный округ', 'дата', 'случаи заболевания',\n       'население', 'количество смертей'],\n      dtype='object')"
     },
     "execution_count": 46,
     "metadata": {},
     "output_type": "execute_result"
    }
   ],
   "source": [
    "covid_data = pd.read_excel('covid_polymatica.xlsx')\n",
    "covid_data.keys()"
   ],
   "metadata": {
    "collapsed": false,
    "ExecuteTime": {
     "end_time": "2024-03-19T19:57:48.424117Z",
     "start_time": "2024-03-19T19:57:47.577514Z"
    }
   },
   "id": "b7b451d1c45e6fab",
   "execution_count": 46
  },
  {
   "cell_type": "code",
   "outputs": [
    {
     "data": {
      "text/plain": "      Регион               Федеральный округ       дата  случаи заболевания  \\\n30    Москва   Центральный федеральный округ 2020-02-25                 NaN   \n114   Москва   Центральный федеральный округ 2020-03-06                 NaN   \n199   Москва   Центральный федеральный округ 2020-03-07                 NaN   \n284   Москва   Центральный федеральный округ 2020-03-08                 1.0   \n369   Москва   Центральный федеральный округ 2020-03-09                 8.0   \n454   Москва   Центральный федеральный округ 2020-03-10                 3.0   \n539   Москва   Центральный федеральный округ 2020-03-11                 6.0   \n624   Москва   Центральный федеральный округ 2020-03-12                 4.0   \n709   Москва   Центральный федеральный округ 2020-03-13                 5.0   \n794   Москва   Центральный федеральный округ 2020-03-14                 9.0   \n879   Москва   Центральный федеральный округ 2020-03-15                 NaN   \n964   Москва   Центральный федеральный округ 2020-03-16                20.0   \n1049  Москва   Центральный федеральный округ 2020-03-17                 4.0   \n1134  Москва   Центральный федеральный округ 2020-03-18                31.0   \n1219  Москва   Центральный федеральный округ 2020-03-19                12.0   \n1275  Москва   Центральный федеральный округ 2020-03-20                33.0   \n1389  Москва   Центральный федеральный округ 2020-03-21                 6.0   \n1445  Москва   Центральный федеральный округ 2020-03-22                54.0   \n1530  Москва   Центральный федеральный округ 2020-03-23                71.0   \n1644  Москва   Центральный федеральный округ 2020-03-24                28.0   \n1729  Москва   Центральный федеральный округ 2020-03-25               120.0   \n1814  Москва   Центральный федеральный округ 2020-03-26               136.0   \n1886  Москва   Центральный федеральный округ 2020-03-27               157.0   \n1984  Москва   Центральный федеральный округ 2020-03-28               114.0   \n2066  Москва   Центральный федеральный округ 2020-03-29               197.0   \n2148  Москва   Центральный федеральный округ 2020-03-30               212.0   \n\n      население  количество смертей  \n30     12692466                 NaN  \n114    12692466                 NaN  \n199    12692466                 NaN  \n284    12692466                 NaN  \n369    12692466                 NaN  \n454    12692466                 NaN  \n539    12692466                 NaN  \n624    12692466                 NaN  \n709    12692466                 NaN  \n794    12692466                 NaN  \n879    12692466                 NaN  \n964    12692466                 NaN  \n1049   12692466                 NaN  \n1134   12692466                 NaN  \n1219   12692466                 NaN  \n1275   12692466                 NaN  \n1389   12692466                 NaN  \n1445   12692466                 NaN  \n1530   12692466                 NaN  \n1644   12692466                 NaN  \n1729   12692466                 NaN  \n1814   12692466                 NaN  \n1886   12692466                 NaN  \n1984   12692466                 NaN  \n2066   12692466                 NaN  \n2148   12692466                 NaN  ",
      "text/html": "<div>\n<style scoped>\n    .dataframe tbody tr th:only-of-type {\n        vertical-align: middle;\n    }\n\n    .dataframe tbody tr th {\n        vertical-align: top;\n    }\n\n    .dataframe thead th {\n        text-align: right;\n    }\n</style>\n<table border=\"1\" class=\"dataframe\">\n  <thead>\n    <tr style=\"text-align: right;\">\n      <th></th>\n      <th>Регион</th>\n      <th>Федеральный округ</th>\n      <th>дата</th>\n      <th>случаи заболевания</th>\n      <th>население</th>\n      <th>количество смертей</th>\n    </tr>\n  </thead>\n  <tbody>\n    <tr>\n      <th>30</th>\n      <td>Москва</td>\n      <td>Центральный федеральный округ</td>\n      <td>2020-02-25</td>\n      <td>NaN</td>\n      <td>12692466</td>\n      <td>NaN</td>\n    </tr>\n    <tr>\n      <th>114</th>\n      <td>Москва</td>\n      <td>Центральный федеральный округ</td>\n      <td>2020-03-06</td>\n      <td>NaN</td>\n      <td>12692466</td>\n      <td>NaN</td>\n    </tr>\n    <tr>\n      <th>199</th>\n      <td>Москва</td>\n      <td>Центральный федеральный округ</td>\n      <td>2020-03-07</td>\n      <td>NaN</td>\n      <td>12692466</td>\n      <td>NaN</td>\n    </tr>\n    <tr>\n      <th>284</th>\n      <td>Москва</td>\n      <td>Центральный федеральный округ</td>\n      <td>2020-03-08</td>\n      <td>1.0</td>\n      <td>12692466</td>\n      <td>NaN</td>\n    </tr>\n    <tr>\n      <th>369</th>\n      <td>Москва</td>\n      <td>Центральный федеральный округ</td>\n      <td>2020-03-09</td>\n      <td>8.0</td>\n      <td>12692466</td>\n      <td>NaN</td>\n    </tr>\n    <tr>\n      <th>454</th>\n      <td>Москва</td>\n      <td>Центральный федеральный округ</td>\n      <td>2020-03-10</td>\n      <td>3.0</td>\n      <td>12692466</td>\n      <td>NaN</td>\n    </tr>\n    <tr>\n      <th>539</th>\n      <td>Москва</td>\n      <td>Центральный федеральный округ</td>\n      <td>2020-03-11</td>\n      <td>6.0</td>\n      <td>12692466</td>\n      <td>NaN</td>\n    </tr>\n    <tr>\n      <th>624</th>\n      <td>Москва</td>\n      <td>Центральный федеральный округ</td>\n      <td>2020-03-12</td>\n      <td>4.0</td>\n      <td>12692466</td>\n      <td>NaN</td>\n    </tr>\n    <tr>\n      <th>709</th>\n      <td>Москва</td>\n      <td>Центральный федеральный округ</td>\n      <td>2020-03-13</td>\n      <td>5.0</td>\n      <td>12692466</td>\n      <td>NaN</td>\n    </tr>\n    <tr>\n      <th>794</th>\n      <td>Москва</td>\n      <td>Центральный федеральный округ</td>\n      <td>2020-03-14</td>\n      <td>9.0</td>\n      <td>12692466</td>\n      <td>NaN</td>\n    </tr>\n    <tr>\n      <th>879</th>\n      <td>Москва</td>\n      <td>Центральный федеральный округ</td>\n      <td>2020-03-15</td>\n      <td>NaN</td>\n      <td>12692466</td>\n      <td>NaN</td>\n    </tr>\n    <tr>\n      <th>964</th>\n      <td>Москва</td>\n      <td>Центральный федеральный округ</td>\n      <td>2020-03-16</td>\n      <td>20.0</td>\n      <td>12692466</td>\n      <td>NaN</td>\n    </tr>\n    <tr>\n      <th>1049</th>\n      <td>Москва</td>\n      <td>Центральный федеральный округ</td>\n      <td>2020-03-17</td>\n      <td>4.0</td>\n      <td>12692466</td>\n      <td>NaN</td>\n    </tr>\n    <tr>\n      <th>1134</th>\n      <td>Москва</td>\n      <td>Центральный федеральный округ</td>\n      <td>2020-03-18</td>\n      <td>31.0</td>\n      <td>12692466</td>\n      <td>NaN</td>\n    </tr>\n    <tr>\n      <th>1219</th>\n      <td>Москва</td>\n      <td>Центральный федеральный округ</td>\n      <td>2020-03-19</td>\n      <td>12.0</td>\n      <td>12692466</td>\n      <td>NaN</td>\n    </tr>\n    <tr>\n      <th>1275</th>\n      <td>Москва</td>\n      <td>Центральный федеральный округ</td>\n      <td>2020-03-20</td>\n      <td>33.0</td>\n      <td>12692466</td>\n      <td>NaN</td>\n    </tr>\n    <tr>\n      <th>1389</th>\n      <td>Москва</td>\n      <td>Центральный федеральный округ</td>\n      <td>2020-03-21</td>\n      <td>6.0</td>\n      <td>12692466</td>\n      <td>NaN</td>\n    </tr>\n    <tr>\n      <th>1445</th>\n      <td>Москва</td>\n      <td>Центральный федеральный округ</td>\n      <td>2020-03-22</td>\n      <td>54.0</td>\n      <td>12692466</td>\n      <td>NaN</td>\n    </tr>\n    <tr>\n      <th>1530</th>\n      <td>Москва</td>\n      <td>Центральный федеральный округ</td>\n      <td>2020-03-23</td>\n      <td>71.0</td>\n      <td>12692466</td>\n      <td>NaN</td>\n    </tr>\n    <tr>\n      <th>1644</th>\n      <td>Москва</td>\n      <td>Центральный федеральный округ</td>\n      <td>2020-03-24</td>\n      <td>28.0</td>\n      <td>12692466</td>\n      <td>NaN</td>\n    </tr>\n    <tr>\n      <th>1729</th>\n      <td>Москва</td>\n      <td>Центральный федеральный округ</td>\n      <td>2020-03-25</td>\n      <td>120.0</td>\n      <td>12692466</td>\n      <td>NaN</td>\n    </tr>\n    <tr>\n      <th>1814</th>\n      <td>Москва</td>\n      <td>Центральный федеральный округ</td>\n      <td>2020-03-26</td>\n      <td>136.0</td>\n      <td>12692466</td>\n      <td>NaN</td>\n    </tr>\n    <tr>\n      <th>1886</th>\n      <td>Москва</td>\n      <td>Центральный федеральный округ</td>\n      <td>2020-03-27</td>\n      <td>157.0</td>\n      <td>12692466</td>\n      <td>NaN</td>\n    </tr>\n    <tr>\n      <th>1984</th>\n      <td>Москва</td>\n      <td>Центральный федеральный округ</td>\n      <td>2020-03-28</td>\n      <td>114.0</td>\n      <td>12692466</td>\n      <td>NaN</td>\n    </tr>\n    <tr>\n      <th>2066</th>\n      <td>Москва</td>\n      <td>Центральный федеральный округ</td>\n      <td>2020-03-29</td>\n      <td>197.0</td>\n      <td>12692466</td>\n      <td>NaN</td>\n    </tr>\n    <tr>\n      <th>2148</th>\n      <td>Москва</td>\n      <td>Центральный федеральный округ</td>\n      <td>2020-03-30</td>\n      <td>212.0</td>\n      <td>12692466</td>\n      <td>NaN</td>\n    </tr>\n  </tbody>\n</table>\n</div>"
     },
     "execution_count": 66,
     "metadata": {},
     "output_type": "execute_result"
    }
   ],
   "source": [
    "filtered_data = covid_data\n",
    "selected_region = \"Москва \"\n",
    "start_date = np.datetime64(\"2020-02-25\")\n",
    "end_date = np.datetime64(\"2020-03-30\")\n",
    "filtered_data[(filtered_data[\"Регион \"] == selected_region) & (filtered_data[\"дата\"] >= start_date) & (filtered_data[\"дата\"] <= end_date)]"
   ],
   "metadata": {
    "collapsed": false,
    "ExecuteTime": {
     "end_time": "2024-03-19T20:03:51.355904Z",
     "start_time": "2024-03-19T20:03:51.326917Z"
    }
   },
   "id": "d9aa096891bd61cb",
   "execution_count": 66
  },
  {
   "cell_type": "code",
   "outputs": [
    {
     "data": {
      "text/plain": "0      2020-02-25\n1      2020-02-25\n2      2020-02-25\n3      2020-02-25\n4      2020-02-25\n          ...    \n9957   2020-06-30\n9958   2020-06-30\n9959   2020-06-30\n9960   2020-06-30\n9961   2020-06-30\nName: дата, Length: 9962, dtype: datetime64[ns]"
     },
     "execution_count": 14,
     "metadata": {},
     "output_type": "execute_result"
    }
   ],
   "source": [
    "covid_data[\"дата\"]"
   ],
   "metadata": {
    "collapsed": false,
    "ExecuteTime": {
     "end_time": "2024-03-19T19:22:01.167408Z",
     "start_time": "2024-03-19T19:22:01.156416Z"
    }
   },
   "id": "fbe505c48c9d086b",
   "execution_count": 14
  },
  {
   "cell_type": "code",
   "outputs": [],
   "source": [],
   "metadata": {
    "collapsed": false
   },
   "id": "d7e7bd7cba9aa71e"
  }
 ],
 "metadata": {
  "kernelspec": {
   "display_name": "Python 3",
   "language": "python",
   "name": "python3"
  },
  "language_info": {
   "codemirror_mode": {
    "name": "ipython",
    "version": 2
   },
   "file_extension": ".py",
   "mimetype": "text/x-python",
   "name": "python",
   "nbconvert_exporter": "python",
   "pygments_lexer": "ipython2",
   "version": "2.7.6"
  }
 },
 "nbformat": 4,
 "nbformat_minor": 5
}
